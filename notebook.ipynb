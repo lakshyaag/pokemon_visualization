{
 "cells": [
  {
   "cell_type": "markdown",
   "metadata": {
    "_uuid": "cc90f275c30197d0c2888bbf6c47953177f77ba5"
   },
   "source": [
    "# Aim & Information\nThis is a simple kernel that showcases the Pokemon with stats dataset in a visual manner. I have attempted to keep all of the code in functional form to imporve reusability and readability. \n\nI have used Plotly as my graphing library due to its ease of use and visual appeal.\n\nI have disregarded the 'Type 2' column, since most of the data in it is blank and it does not have any use."
   ]
  },
  {
   "cell_type": "code",
   "execution_count": 35,
   "metadata": {
    "_uuid": "8f2839f25d086af736a60e9eeb907d3b93b6e0e5",
    "_cell_guid": "b1076dfc-b9ad-4769-8c92-a6c4dae69d19",
    "trusted": true,
    "collapsed": true
   },
   "outputs": [],
   "source": [
    "# This Python 3 environment comes with many helpful analytics libraries installed\n",
    "# It is defined by the kaggle/python docker image: https://github.com/kaggle/docker-python\n",
    "# For example, here's several helpful packages to load in \n",
    "\n",
    "import numpy as np # linear algebra\n",
    "import pandas as pd # data processing, CSV file I/O (e.g. pd.read_csv)\n",
    "import matplotlib.pyplot as plt\n",
    "import plotly.figure_factory as ff\n",
    "import plotly.graph_objs as go\n",
    "from IPython.display import HTML\n",
    "from plotly.offline import init_notebook_mode, iplot\n",
    "init_notebook_mode(connected=True)\n",
    "\n",
    "# Input data files are available in the \"../input/\" directory.\n",
    "# For example, running this (by clicking run or pressing Shift+Enter) will list the files in the input directory\n",
    "\n",
    "import os\n",
    "print(os.listdir(\"../input\"))\n",
    "\n",
    "# Any results you write to the current directory are saved as output."
   ]
  },
  {
   "cell_type": "markdown",
   "metadata": {
    "_uuid": "ecaac17b7b40cad3cac66d701617c7dfb4b61000"
   },
   "source": [
    "# About the dataset\nThis data set includes 721 Pokemon, including their number, name, first and second type, and basic stats: HP, Attack, Defense, Special Attack, Special Defense, and Speed. It has been of great use when teaching statistics to kids. With certain types you can also give a geeky introduction to machine learning.\n\nThis are the raw attributes that are used for calculating how much damage an attack will do in the games. This dataset is about the pokemon games (NOT pokemon cards or Pokemon Go).\n\nThe data as described by Myles O'Neill is:\n\n* '#': ID for each pokemon\n\n* Name: Name of each pokemon\n\n* Type 1: Each pokemon has a type, this determines weakness/resistance to attacks\n\n* Type 2: Some pokemon are dual type and have 2\n\n* Total: sum of all stats that come after this, a general guide to how strong a pokemon is\n\n* HP: hit points, or health, defines how much damage a pokemon can withstand before fainting\n\n* Attack: the base modifier for normal attacks (eg. Scratch, Punch)\n\n* Defense: the base damage resistance against normal attacks\n\n* SP Atk: special attack, the base modifier for special attacks (e.g. fire blast, bubble beam)\n\n* SP Def: the base damage resistance against special attacks\n\n* Speed: determines which pokemon attacks first each round"
   ]
  },
  {
   "cell_type": "code",
   "execution_count": 47,
   "metadata": {
    "_cell_guid": "79c7e3d0-c299-4dcb-8224-4455121ee9b0",
    "_uuid": "d629ff2d2480ee46fbb7e2d37f6b5fab8052498a",
    "trusted": true,
    "collapsed": true
   },
   "outputs": [],
   "source": [
    "pokemon = pd.read_csv('../input/Pokemon.csv')\n",
    "pokemon.head()"
   ]
  },
  {
   "cell_type": "markdown",
   "metadata": {
    "_uuid": "8f3a5fdec1bd097358838856adc49e1df039ef3a"
   },
   "source": [
    "# Colors\nTo make some graphs color-coded, I define here a dictionary containing the color codes of each Pokemon type. "
   ]
  },
  {
   "cell_type": "code",
   "execution_count": 37,
   "metadata": {
    "trusted": true,
    "collapsed": true,
    "_uuid": "cfe827c88eb64f15b0ba2c378825bcd354fe6f44"
   },
   "outputs": [],
   "source": [
    "# Defining colors for graphs \n",
    "colors = {\n",
    "    \"Bug\": \"#A6B91A\",\n",
    "    \"Dark\": \"#705746\",\n",
    "    \"Dragon\": \"#6F35FC\",\n",
    "    \"Electric\": \"#F7D02C\",\n",
    "    \"Fairy\": \"#D685AD\",\n",
    "    \"Fighting\": \"#C22E28\",\n",
    "    \"Fire\": \"#EE8130\",\n",
    "    \"Flying\": \"#A98FF3\",\n",
    "    \"Ghost\": \"#735797\",\n",
    "    \"Grass\": \"#7AC74C\",\n",
    "    \"Ground\": \"#E2BF65\",\n",
    "    \"Ice\": \"#96D9D6\",\n",
    "    \"Normal\": \"#A8A77A\",\n",
    "    \"Poison\": \"#A33EA1\",\n",
    "    \"Psychic\": \"#F95587\",\n",
    "    \"Rock\": \"#B6A136\",\n",
    "    \"Steel\": \"#B7B7CE\",\n",
    "    \"Water\": \"#6390F0\",\n",
    "}"
   ]
  },
  {
   "cell_type": "markdown",
   "metadata": {
    "_uuid": "374ac597f8096fefab47ca0f395153b6bc21cebe"
   },
   "source": [
    "# Distplot\nDistplots are used to plot a univariate distribution. Basically, it plots a histogram and fits a KDE on it."
   ]
  },
  {
   "cell_type": "code",
   "execution_count": 38,
   "metadata": {
    "trusted": true,
    "_uuid": "60fc1c667d7535bfdb682c273dead6c642de6189",
    "collapsed": true
   },
   "outputs": [],
   "source": [
    "# HP distplot\n",
    "hp_distplot = ff.create_distplot([pokemon.HP], ['HP'], bin_size=5)\n",
    "iplot(hp_distplot, filename='HP Distplot')"
   ]
  },
  {
   "cell_type": "code",
   "execution_count": 39,
   "metadata": {
    "trusted": true,
    "_uuid": "c21e2afaf89a808ac06bff559ea821e033adc7d2",
    "collapsed": true
   },
   "outputs": [],
   "source": [
    "# Attack / Defense distplot\n",
    "attack_defense_distplot = ff.create_distplot([pokemon.Attack, pokemon.Defense], ['Attack', 'Defense'], bin_size=5)\n",
    "iplot(attack_defense_distplot, filename='Attack/Defense Distplot')"
   ]
  },
  {
   "cell_type": "markdown",
   "metadata": {
    "_uuid": "414cebe7fb50f49f1187bb5a73e52cb2fc897fe6"
   },
   "source": [
    "# Radar Charts\nUsing radar/polar charts, we can easily visualize the statistics of a single Pokemon and even compare the statistics of two Pokemon.\n\n## Visualizing single Pokemon statistics"
   ]
  },
  {
   "cell_type": "code",
   "execution_count": 48,
   "metadata": {
    "trusted": true,
    "_uuid": "2c55175687954e016a2fed5976e6d36086bffb01",
    "collapsed": true
   },
   "outputs": [],
   "source": [
    "# Visualizing single Pokemon statistics\n",
    "\n",
    "\n",
    "def polar_pokemon_stats(pkmn_name):\n",
    "    pkmn = pokemon[pokemon.Name == pkmn_name]\n",
    "    obj = go.Scatterpolar(\n",
    "        r=[\n",
    "            pkmn['HP'].values[0],\n",
    "            pkmn['Attack'].values[0],\n",
    "            pkmn['Defense'].values[0],\n",
    "            pkmn['Sp. Atk'].values[0],\n",
    "            pkmn['Sp. Def'].values[0],\n",
    "            pkmn['Speed'].values[0],\n",
    "            pkmn['HP'].values[0]\n",
    "        ],\n",
    "        theta=[\n",
    "            'HP', 'Attack', 'Defense', 'Sp. Atk', 'Sp. Def', 'Speed', 'HP'\n",
    "        ],\n",
    "        fill='toself',\n",
    "        marker=dict(\n",
    "            color=colors[pkmn['Type 1'].values[0]]\n",
    "        ),\n",
    "        name=pkmn['Name'].values[0]\n",
    "    )\n",
    "\n",
    "    return obj\n",
    "\n",
    "\n",
    "def plot_single_pokemon(name):\n",
    "    layout = go.Layout(\n",
    "        polar=dict(\n",
    "            radialaxis=dict(\n",
    "                visible=True,\n",
    "                range=[0, 250]\n",
    "            )\n",
    "        ),\n",
    "        showlegend=False,\n",
    "        title=\"Stats of {}\".format(name)\n",
    "    )\n",
    "\n",
    "    pokemon_figure = go.Figure(data=[polar_pokemon_stats(name)], layout=layout)\n",
    "    iplot(pokemon_figure, filename='Single Pokemon')\n",
    "\n",
    "name = 'Charmander'\n",
    "plot_single_pokemon(name)"
   ]
  },
  {
   "cell_type": "markdown",
   "metadata": {
    "_uuid": "f002d70347fb532f7dc2924bd3d19a219c42c815"
   },
   "source": [
    "## Comparing statistics of 2 different Pokemons."
   ]
  },
  {
   "cell_type": "code",
   "execution_count": 41,
   "metadata": {
    "trusted": true,
    "_uuid": "e2b48d905a8dce511c60d709ae1ec5a04a9e3258",
    "collapsed": true
   },
   "outputs": [],
   "source": [
    "# Comparing stats of 2 different pokemons\n",
    "pkmn_1_name = 'Kyogre'\n",
    "pkmn_2_name = 'Entei'\n",
    "\n",
    "layout = go.Layout(\n",
    "    polar=dict(\n",
    "        radialaxis=dict(\n",
    "            visible=True,\n",
    "            range=[0, 250]\n",
    "        )\n",
    "    ),\n",
    "    showlegend=True,\n",
    "    title=\"{} vs. {}\".format(pkmn_1_name, pkmn_2_name)\n",
    ")\n",
    "\n",
    "pkmn_1 = polar_pokemon_stats(pkmn_1_name)\n",
    "pkmn_2 = polar_pokemon_stats(pkmn_2_name)\n",
    "\n",
    "compare_2_pokemon = go.Figure(data=[pkmn_1, pkmn_2], layout=layout)\n",
    "iplot(compare_2_pokemon, filename='Compare 2 Pokemon')"
   ]
  },
  {
   "cell_type": "markdown",
   "metadata": {
    "_uuid": "95f078378c22ba0127211d2e0e379ce413e3d50a"
   },
   "source": [
    "# Scatterplot\nUsing scatterplots, we can visualize the correlation of two variables. The scatterplot plots the two variables on the axes and the pattern of resulting points shows their correlation.\n\n## Correlation of 2 stats based on a third stat (for color)"
   ]
  },
  {
   "cell_type": "code",
   "execution_count": 42,
   "metadata": {
    "trusted": true,
    "_uuid": "4eb4b9159fbd9e1a003c1c8c7ab51b2f45869f7b",
    "collapsed": true
   },
   "outputs": [],
   "source": [
    "# Correlation of 2 stats based on a third stat (default = Speed)\n",
    "\n",
    "\n",
    "def get_correlation_stats(stat1, stat2, stat3='Speed'):\n",
    "    data = go.Scatter(\n",
    "        x=pokemon[stat1],\n",
    "        y=pokemon[stat2],\n",
    "        mode='markers',\n",
    "        marker=dict(\n",
    "            size=10,\n",
    "            color=pokemon[stat3],\n",
    "            colorscale='Viridis',\n",
    "            showscale=True\n",
    "        ),\n",
    "        text=pokemon['Name']\n",
    "    )\n",
    "\n",
    "    layout = go.Layout(\n",
    "        xaxis=dict(\n",
    "            title=stat1\n",
    "        ),\n",
    "        yaxis=dict(\n",
    "            title=stat2\n",
    "        ),\n",
    "        showlegend=False,\n",
    "        title=\"Scatter plot of {} and {}, colored on {}\".format(stat1, stat2, stat3)\n",
    "    )\n",
    "\n",
    "    correlation_stats = go.Figure(data=[data], layout=layout)\n",
    "    return correlation_stats\n",
    "\n",
    "\n",
    "iplot(get_correlation_stats('HP', 'Defense'), filename='Stats Correlation')"
   ]
  },
  {
   "cell_type": "markdown",
   "metadata": {
    "_uuid": "5b57d035fe7eafaf4b3f7fb771a44d2a0d0e785c"
   },
   "source": [
    "## Attack vs. Defense of a Pokemon Type over Generations (sized by HP)"
   ]
  },
  {
   "cell_type": "code",
   "execution_count": 43,
   "metadata": {
    "trusted": true,
    "_uuid": "16709ea014db60ec46ebafebb3c12408d1e4a984",
    "collapsed": true
   },
   "outputs": [],
   "source": [
    "# Attack vs. Defense of pokemon over generations, sized by HP\n",
    "\n",
    "\n",
    "def attack_vs_def(type):\n",
    "    type_data = pokemon[pokemon['Type 1'] == type]\n",
    "    data = []\n",
    "\n",
    "    for i in range(1, 7):\n",
    "        gen = type_data[type_data['Generation'] == i]\n",
    "        trace = go.Scatter(\n",
    "            x=gen['Attack'],\n",
    "            y=gen['Defense'],\n",
    "            mode='markers',\n",
    "            marker=dict(\n",
    "                symbol='circle',\n",
    "                sizemode='area',\n",
    "                size=gen['HP'],\n",
    "                sizeref=2. * max(gen['HP']) / (2000),\n",
    "                line=dict(\n",
    "                    width=2\n",
    "                ),\n",
    "            ),\n",
    "            name='Generation {}'.format(i),\n",
    "            text=type_data['Name']\n",
    "        )\n",
    "        data.append(trace)\n",
    "\n",
    "    layout = go.Layout(\n",
    "        showlegend=True,\n",
    "        xaxis=dict(\n",
    "            title=\"Attack\"\n",
    "        ),\n",
    "        yaxis=dict(\n",
    "            title=\"Defense\"\n",
    "        ),\n",
    "        title=\"Attack vs. Defense of {} pokemon over generations, sized by HP\".format(type)\n",
    "    )\n",
    "\n",
    "    fig = go.Figure(data=data, layout=layout)\n",
    "    return fig\n",
    "\n",
    "\n",
    "iplot(attack_vs_def('Electric'), filename='Fire Over Generation')"
   ]
  },
  {
   "cell_type": "markdown",
   "metadata": {
    "_uuid": "5a342e4e158a4c9bd8bd9cae22c1af9c63d0cfa4"
   },
   "source": [
    "# Bar Chart\nBar charts are used to plot categorical data easily. A bar chart plots the category on the x-axis and its corresponding values on the y-axis.\n\n## Visualizing number of pokemon per type across all generations"
   ]
  },
  {
   "cell_type": "code",
   "execution_count": 44,
   "metadata": {
    "trusted": true,
    "_uuid": "80316f3e91b33f77d08a4543fcb2dae8e7e3b8d7",
    "collapsed": true
   },
   "outputs": [],
   "source": [
    "# Visualizing number of pokemon per type across all generation.\n",
    "\n",
    "types = (pokemon.groupby(['Type 1'])['#'].count())\n",
    "types_name = list(types.keys())\n",
    "\n",
    "data = go.Bar(\n",
    "    x=types_name,\n",
    "    y=types.values,\n",
    "    marker=dict(\n",
    "        color=list(colors.values())\n",
    "    ),\n",
    "    name=\"{}\".format(types_name)\n",
    ")\n",
    "\n",
    "layout = go.Layout(\n",
    "    title='Types',\n",
    "    xaxis=dict(\n",
    "        title='Type'\n",
    "    ),\n",
    "    yaxis=dict(\n",
    "        title='Number of Pokemon'\n",
    "    )\n",
    ")\n",
    "\n",
    "fig = go.Figure(data=[data], layout=layout)\n",
    "iplot(fig, filename='Types')\n"
   ]
  },
  {
   "cell_type": "markdown",
   "metadata": {
    "_uuid": "7592169c46ae8f73fe2287d3c33cad112c341b99"
   },
   "source": [
    "# Line chart\nA line chart is used to plot numerical data easily. \n\n## Visualizing the trend of stats by type and generation\nHere, I define a function that groups the dataframe by the given classifier and plots a line chart showing the trend (average) of every statistic. This type of graph allows us to easily find types/generations having the highest/lowest value of a particular statistic. For example, it is easily seen that Steel types have the highest average defense.\n\n#### There are only 4 primary flying-type Pokemon, hence the high average speed."
   ]
  },
  {
   "cell_type": "code",
   "execution_count": 45,
   "metadata": {
    "trusted": true,
    "_uuid": "d8c36ab29215da8edf6a36a1c0ac51e682e5d122",
    "collapsed": true
   },
   "outputs": [],
   "source": [
    "# Visualizing the trend of stats by type and generation.\n",
    "def stats_by(classifier):\n",
    "    data = []\n",
    "    stats_names = ['HP', 'Attack', 'Defense', 'Sp. Atk', 'Sp. Def', 'Speed']\n",
    "    stats = pokemon.groupby(classifier)[stats_names].mean().reset_index()\n",
    "    for stat in stats_names:\n",
    "        stat_line = go.Scatter(\n",
    "            x=stats[classifier],\n",
    "            y=stats[stat],\n",
    "            name=stat,\n",
    "            line=dict(\n",
    "                width=3,\n",
    "            ),\n",
    "        )\n",
    "\n",
    "        data.append(stat_line)\n",
    "\n",
    "    layout = go.Layout(\n",
    "        title='Trend of stats by {}'.format(classifier),\n",
    "        xaxis=dict(title=classifier),\n",
    "        yaxis=dict(title='Values')\n",
    "    )\n",
    "\n",
    "    trend = go.Figure(data=data, layout=layout)\n",
    "    iplot(trend, filename='trend')\n",
    "\n",
    "\n",
    "stats_by('Generation')\n",
    "stats_by('Type 1')\n"
   ]
  },
  {
   "cell_type": "markdown",
   "metadata": {
    "_uuid": "5b9268f73e209d49ff2944176442b7e7db83f9c7"
   },
   "source": [
    "## Visualizing stats of pokemon per type\nHere, I define a function that plots a line chart of the statistics for all Pokemon of a given type. This allows us to easily identify which Pokemon of a particular type has the highest statistic. For example, in the given graph, we can easily see that Blissey has the highest HP (**255**) among all Pokemon of the Normal type, or, Regigas and Slaking have the highest Attack (**160**)."
   ]
  },
  {
   "cell_type": "code",
   "execution_count": 46,
   "metadata": {
    "trusted": true,
    "_uuid": "f0df3a1e847e35a7c56b775ffd7d253241dd0d7f",
    "collapsed": true
   },
   "outputs": [],
   "source": [
    "# Visualzing stats of pokemon per type\n",
    "\n",
    "\n",
    "def stats_by_type(type):\n",
    "    data = []\n",
    "    stats_names = ['HP', 'Attack', 'Defense', 'Sp. Atk', 'Sp. Def', 'Speed']\n",
    "\n",
    "    particular_type = pokemon[pokemon['Type 1'] == type].reset_index(drop=True)\n",
    "    for stat in stats_names:\n",
    "        stat_line = go.Scatter(\n",
    "            x=particular_type['Name'],\n",
    "            y=particular_type[stat],\n",
    "            name=stat,\n",
    "            line=dict(\n",
    "                width=3\n",
    "            )\n",
    "        )\n",
    "\n",
    "        data.append(stat_line)\n",
    "\n",
    "    layout = go.Layout(\n",
    "        title=\"Stats of every Pokemon of {} type\".format(type),\n",
    "        xaxis=dict(\n",
    "            title=\"{} Pokemon\".format(type)\n",
    "        ),\n",
    "        yaxis=dict(\n",
    "            title=\"Values\"\n",
    "        )\n",
    "    )\n",
    "\n",
    "    fig = go.Figure(data=data, layout=layout)\n",
    "    iplot(fig, filename='type_stats')\n",
    "\n",
    "\n",
    "stats_by_type('Normal')"
   ]
  }
 ],
 "metadata": {
  "kernelspec": {
   "display_name": "Python 3",
   "language": "python",
   "name": "python3"
  },
  "language_info": {
   "name": "python",
   "version": "3.6.5",
   "mimetype": "text/x-python",
   "codemirror_mode": {
    "name": "ipython",
    "version": 3
   },
   "pygments_lexer": "ipython3",
   "nbconvert_exporter": "python",
   "file_extension": ".py"
  }
 },
 "nbformat": 4,
 "nbformat_minor": 1
}
